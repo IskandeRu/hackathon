{
 "cells": [
  {
   "cell_type": "code",
   "execution_count": null,
   "id": "f7e44a3d",
   "metadata": {},
   "outputs": [],
   "source": [
    "import pandas as pd\n",
    "import datetime\n",
    "\n",
    "from simulator import Simulator\n",
    "from strategy import FastMomentumStrategy"
   ]
  },
  {
   "cell_type": "code",
   "execution_count": null,
   "id": "84c451d9",
   "metadata": {},
   "outputs": [],
   "source": [
    "pd.options.plotting.backend = \"plotly\" "
   ]
  },
  {
   "cell_type": "code",
   "execution_count": null,
   "id": "443a33de",
   "metadata": {},
   "outputs": [],
   "source": [
    "\n",
    "model = FastMomentumStrategy()\n",
    "\n",
    "t = Simulator(model)\n",
    "\n",
    "start_date = datetime.datetime(2022, 1, 1)\n",
    "end_date = datetime.datetime(2022, 3, 31)\n",
    "t.run(start_date, end_date)\n",
    "\n",
    "df = t.get_result_dataframe()"
   ]
  },
  {
   "cell_type": "code",
   "execution_count": null,
   "id": "e522e099",
   "metadata": {},
   "outputs": [],
   "source": [
    "df['profit_without_fees'].plot()"
   ]
  },
  {
   "cell_type": "code",
   "execution_count": null,
   "id": "23278ebc",
   "metadata": {},
   "outputs": [],
   "source": [
    "df['profit'].plot()"
   ]
  },
  {
   "cell_type": "code",
   "execution_count": null,
   "id": "ba6d2f19",
   "metadata": {},
   "outputs": [],
   "source": [
    "df['position'].plot()"
   ]
  },
  {
   "cell_type": "code",
   "execution_count": null,
   "id": "c13dd52a",
   "metadata": {
    "scrolled": true
   },
   "outputs": [],
   "source": [
    "df['cumulative_fees'].plot()"
   ]
  },
  {
   "cell_type": "code",
   "execution_count": null,
   "id": "fb034854",
   "metadata": {},
   "outputs": [],
   "source": []
  },
  {
   "cell_type": "code",
   "execution_count": null,
   "id": "53ed58cb",
   "metadata": {},
   "outputs": [],
   "source": []
  }
 ],
 "metadata": {
  "kernelspec": {
   "display_name": "Python 3",
   "language": "python",
   "name": "python3"
  },
  "language_info": {
   "codemirror_mode": {
    "name": "ipython",
    "version": 3
   },
   "file_extension": ".py",
   "mimetype": "text/x-python",
   "name": "python",
   "nbconvert_exporter": "python",
   "pygments_lexer": "ipython3",
   "version": "3.10.4"
  }
 },
 "nbformat": 4,
 "nbformat_minor": 5
}
